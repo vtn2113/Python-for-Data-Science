{
 "cells": [
  {
   "cell_type": "markdown",
   "metadata": {
    "collapsed": true
   },
   "source": [
    "# IBM Data Science Capstone Project Report"
   ]
  },
  {
   "cell_type": "markdown",
   "metadata": {},
   "source": [
    "## Identifying Best Community Areas for Dog Owners and Dog Care Businesses in New York City"
   ]
  },
  {
   "cell_type": "markdown",
   "metadata": {},
   "source": [
    " "
   ]
  },
  {
   "cell_type": "markdown",
   "metadata": {},
   "source": [
    "### 1. Introduction"
   ]
  },
  {
   "cell_type": "markdown",
   "metadata": {},
   "source": [
    "Whether you are a dog owner or a business in the dog care industry in New York City (\"NYC\"), identifying locations that are friendly to dogs in the city is always an important mission. According to New York Open Data, an online data platform of the NYC Government, as of 26 July 2019, there are 345,727 dogs with an active license in the city. Among various metropolitans across the world, NYC is perceived as one of the friendliest cities to dogs with a number of parks, dog-run spaces and walkable neighborhoods."
   ]
  },
  {
   "cell_type": "markdown",
   "metadata": {},
   "source": [
    "### 2. Objective"
   ]
  },
  {
   "cell_type": "markdown",
   "metadata": {},
   "source": [
    "This report aims to evaluate the friendliness of NYC's community areas and thus identify the top 3 best community areas for dog owners and dog care businesses in NYC. To this end, the report mainly focuses on analyzing the availability of public facilities necessary to dog care across NYC's community areas, namely parks, vet offices, sidewalks and pet supply stores.\n",
    "The report's findings will serve as a helpful source of information for NYC's dog owners and businesses that plan to operate in the dog care industry in this city. "
   ]
  },
  {
   "cell_type": "markdown",
   "metadata": {},
   "source": [
    "### 2. Data"
   ]
  },
  {
   "cell_type": "markdown",
   "metadata": {},
   "source": [
    "To achieve its objective, the report uses the following data:"
   ]
  },
  {
   "cell_type": "markdown",
   "metadata": {},
   "source": [
    "- The list of community areas in New York City: https://en.wikipedia.org/wiki/Neighborhoods_in_New_York_City\n",
    "- Longitude and lattitude of each of the community areas using Python Geocorder package\n",
    "- Venuea data of each of the community areas using Foursquare API"
   ]
  },
  {
   "cell_type": "code",
   "execution_count": null,
   "metadata": {},
   "outputs": [],
   "source": []
  },
  {
   "cell_type": "code",
   "execution_count": null,
   "metadata": {},
   "outputs": [],
   "source": []
  }
 ],
 "metadata": {
  "kernelspec": {
   "display_name": "Python 3.6",
   "language": "python",
   "name": "python3"
  },
  "language_info": {
   "codemirror_mode": {
    "name": "ipython",
    "version": 3
   },
   "file_extension": ".py",
   "mimetype": "text/x-python",
   "name": "python",
   "nbconvert_exporter": "python",
   "pygments_lexer": "ipython3",
   "version": "3.6.8"
  }
 },
 "nbformat": 4,
 "nbformat_minor": 1
}
